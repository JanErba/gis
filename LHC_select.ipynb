{
  "nbformat": 4,
  "nbformat_minor": 0,
  "metadata": {
    "colab": {
      "provenance": [],
      "include_colab_link": true
    },
    "kernelspec": {
      "name": "python3",
      "display_name": "Python 3"
    },
    "language_info": {
      "name": "python"
    }
  },
  "cells": [
    {
      "cell_type": "markdown",
      "metadata": {
        "id": "view-in-github",
        "colab_type": "text"
      },
      "source": [
        "<a href=\"https://colab.research.google.com/github/JanErba/gis/blob/main/LHC_select.ipynb\" target=\"_parent\"><img src=\"https://colab.research.google.com/assets/colab-badge.svg\" alt=\"Open In Colab\"/></a>"
      ]
    },
    {
      "cell_type": "markdown",
      "source": [
        "Import libraries: Pandas; import data from Google Drive"
      ],
      "metadata": {
        "id": "xFdXqPK5hAnR"
      }
    },
    {
      "cell_type": "code",
      "source": [
        "import pandas as pd\n",
        "\n",
        "from google.colab import drive\n",
        "drive.mount('/content/drive')\n"
      ],
      "metadata": {
        "id": "Ez3DEkZlhGJM"
      },
      "execution_count": null,
      "outputs": []
    },
    {
      "cell_type": "markdown",
      "source": [
        "Load the Excel file"
      ],
      "metadata": {
        "id": "x4f4Q2mQhKX-"
      }
    },
    {
      "cell_type": "code",
      "source": [
        "file_path = \"/content/drive/MyDrive/Python/data/lhc.xlsx\"\n",
        "sheet_name = \"List1\""
      ],
      "metadata": {
        "id": "Do-7g12phPFw"
      },
      "execution_count": null,
      "outputs": []
    },
    {
      "cell_type": "markdown",
      "source": [
        "Read the Excel file"
      ],
      "metadata": {
        "id": "odWxthKghqpY"
      }
    },
    {
      "cell_type": "code",
      "source": [
        "df = pd.read_excel(file_path, sheet_name=sheet_name)\n",
        "print(df)\n"
      ],
      "metadata": {
        "id": "tlNjb0R-htf3"
      },
      "execution_count": null,
      "outputs": []
    },
    {
      "cell_type": "markdown",
      "source": [
        "Iterate through the rows"
      ],
      "metadata": {
        "id": "HvirVl2vmbrt"
      }
    },
    {
      "cell_type": "code",
      "source": [
        "for index, row in df.iterrows():\n",
        "  LHC_KOD = row[\"LHC_KOD\"]\n",
        "  ODD = row[\"ODD\"]\n",
        "  DIL = row[\"DIL\"]\n",
        "  POR = row[\"POR\"]\n",
        "  PSK = row[\"PSK\"]\n",
        "\n",
        "  print(f\"LHC_KOD={LHC_KOD} AND ODD={ODD} AND DIL='{DIL}' AND POR='{POR}' AND PSK='{PSK}' OR\")"
      ],
      "metadata": {
        "id": "TxGlTWwEmb17",
        "collapsed": true
      },
      "execution_count": null,
      "outputs": []
    },
    {
      "cell_type": "markdown",
      "source": [
        "Drop duplicate rows and count the unique ones"
      ],
      "metadata": {
        "id": "GVO6AhEQI_U_"
      }
    },
    {
      "cell_type": "code",
      "source": [
        "drop_duplicate = df.drop_duplicates()\n",
        "unique_rows = len(drop_duplicate)\n",
        "print(f\"Unique rows: {unique_rows}\")"
      ],
      "metadata": {
        "id": "xRmALltgJEfH"
      },
      "execution_count": null,
      "outputs": []
    }
  ]
}